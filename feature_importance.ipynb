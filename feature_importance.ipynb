{
 "cells": [
  {
   "cell_type": "code",
   "execution_count": 1,
   "metadata": {},
   "outputs": [
    {
     "name": "stdout",
     "output_type": "stream",
     "text": [
      "Using device: cuda\n"
     ]
    }
   ],
   "source": [
    "import pandas as pd\n",
    "import numpy as np\n",
    "import csv\n",
    "from DeepSvDDClass import *\n",
    "import torch\n",
    "\n",
    "from sklearn.utils import shuffle\n",
    "from sklearn.model_selection import train_test_split\n",
    "\n",
    "device = torch.device('cuda' if torch.cuda.is_available() else 'cpu')\n",
    "print('Using device:', device)"
   ]
  },
  {
   "cell_type": "code",
   "execution_count": 2,
   "metadata": {},
   "outputs": [
    {
     "name": "stdout",
     "output_type": "stream",
     "text": [
      "        rms       zcr  kurtosis  skewness       std        CF        SF  \\\n",
      "0  0.138044  0.136690  1.452345 -0.014825  0.138044  7.244065  1.342925   \n",
      "1  0.150508  0.124701  0.680818 -0.028264  0.150508  6.644170  1.287719   \n",
      "2  0.162581  0.142076  0.745172 -0.006139  0.162581  6.150773  1.292229   \n",
      "3  0.185890  0.128205  0.594865 -0.032603  0.185890  5.379512  1.281909   \n",
      "4  0.147738  0.126384  1.226378 -0.026176  0.147738  6.768762  1.319555   \n",
      "\n",
      "         IF        CLF     centroid   entropy  \n",
      "0  9.728238  11.973547  1846.386422  0.823375  \n",
      "1  8.555824  10.244404  1775.349014  0.801431  \n",
      "2  7.948206   9.535143  1955.074402  0.786656  \n",
      "3  6.896046   8.229663  1843.963320  0.794552  \n",
      "4  8.931752  10.853967  1770.569344  0.801233  \n",
      "  normal/abnormal\n",
      "0               1\n",
      "1               1\n",
      "2               1\n",
      "3               1\n",
      "4               1\n"
     ]
    }
   ],
   "source": [
    "datapath = r'C:\\Users\\brech\\THESIS_local\\ToyADMOS\\DeepSVDD_case1_ch1.csv'\n",
    "df = pd.read_csv(datapath)\n",
    "\n",
    "df.loc[df[\"normal/abnormal\"] == \"normal\", \"normal/abnormal\"] = 1\n",
    "df.loc[df[\"normal/abnormal\"] == \"abnormal\", \"normal/abnormal\"] = -1\n",
    "\n",
    "#X is data, Y is target\n",
    "X = df.loc[:, df.columns != 'normal/abnormal']\n",
    "y = df[[\"normal/abnormal\"]]\n",
    "\n",
    "print(X.head())\n",
    "print(y.head())"
   ]
  },
  {
   "cell_type": "code",
   "execution_count": 3,
   "metadata": {},
   "outputs": [],
   "source": [
    "from sklearn.model_selection import train_test_split\n",
    "\n",
    "X_train, X_test, y_train, y_test = train_test_split(X, y, test_size=0.2)"
   ]
  },
  {
   "cell_type": "code",
   "execution_count": 4,
   "metadata": {},
   "outputs": [],
   "source": [
    "import seaborn as sns\n",
    "\n",
    "train_dataset = X_train.copy()\n",
    "train_dataset.insert(0, 'normal/abnormal', np.float64(y_train))\n",
    "train_dataset.head()\n",
    "_ = sns.pairplot(\n",
    "    train_dataset[['normal/abnormal','rms', 'zcr', 'kurtosis', 'skewness', 'std','CF','SF', 'IF', 'CLF' , 'centroid', 'entropy']],\n",
    "    kind='reg', diag_kind='kde', plot_kws={'line_kws':{'color':'red'},'scatter_kws': {'alpha': 0.1}})\n",
    "\n",
    "#laatste twee (zamen met zcr lijken een correlatie te hebben?), alhoewel het mij lijkt dat bvb voor CF dat een lage CF waarde dan op 1 land \n",
    "# en een hoge CF waarde op -1 land\n",
    "#de diagonaal is een lineaire regression line(dus mss niet wat het moet zijn)\n",
    "#ik denk gewoon kijken naar bvb kurtosis dat lage kurtosis precies enkel 1 geeft en hoge kurtosis meer -1, en juist andersom voor skewness"
   ]
  },
  {
   "cell_type": "code",
   "execution_count": null,
   "metadata": {},
   "outputs": [],
   "source": [
    "from sklearn.linear_model import RidgeCV\n",
    "\n",
    "model = RidgeCV()\n",
    "\n",
    "model.fit(X_train, y_train)\n",
    "\n",
    "print(f'model score on training data: {model.score(X_train, y_train)}')\n",
    "print(f'model score on testing data: {model.score(X_test, y_test)}')"
   ]
  }
 ],
 "metadata": {
  "kernelspec": {
   "display_name": "base",
   "language": "python",
   "name": "python3"
  },
  "language_info": {
   "codemirror_mode": {
    "name": "ipython",
    "version": 3
   },
   "file_extension": ".py",
   "mimetype": "text/x-python",
   "name": "python",
   "nbconvert_exporter": "python",
   "pygments_lexer": "ipython3",
   "version": "3.9.12"
  },
  "orig_nbformat": 4
 },
 "nbformat": 4,
 "nbformat_minor": 2
}
