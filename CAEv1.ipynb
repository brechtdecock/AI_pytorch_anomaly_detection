{
 "cells": [
  {
   "cell_type": "code",
   "execution_count": 1,
   "metadata": {},
   "outputs": [
    {
     "name": "stdout",
     "output_type": "stream",
     "text": [
      "Using device: cuda\n"
     ]
    }
   ],
   "source": [
    "import torch\n",
    "from torch.utils.data import DataLoader\n",
    "\n",
    "from GPUtil import showUtilization as gpu_usage\n",
    "from numba import cuda\n",
    "\n",
    "import torchinfo\n",
    "import tqdm\n",
    "import pandas as pd\n",
    "import numpy as np  \n",
    "import matplotlib.pyplot as plt\n",
    "import librosa\n",
    "import librosa.display\n",
    "from CAEclass import *\n",
    "\n",
    "from sklearn.utils import shuffle\n",
    "from sklearn.model_selection import train_test_split\n",
    "\n",
    "\n",
    "device = torch.device('cuda' if torch.cuda.is_available() else 'cpu')\n",
    "print('Using device:', device)"
   ]
  },
  {
   "cell_type": "code",
   "execution_count": 2,
   "metadata": {},
   "outputs": [
    {
     "data": {
      "text/plain": [
       "==========================================================================================\n",
       "Layer (type:depth-idx)                   Output Shape              Param #\n",
       "==========================================================================================\n",
       "CAE                                      [1, 8007]                 --\n",
       "├─Sequential: 1-1                        [128, 1000, 1]            --\n",
       "│    └─Conv2d: 2-1                       [32, 8000, 1]             128\n",
       "│    └─Tanh: 2-2                         [32, 8000, 1]             --\n",
       "│    └─MaxPool2d: 2-3                    [32, 4000, 1]             --\n",
       "│    └─Conv2d: 2-4                       [64, 4000, 1]             6,208\n",
       "│    └─Tanh: 2-5                         [64, 4000, 1]             --\n",
       "│    └─MaxPool2d: 2-6                    [64, 2000, 1]             --\n",
       "│    └─Conv2d: 2-7                       [128, 2000, 1]            24,704\n",
       "│    └─Tanh: 2-8                         [128, 2000, 1]            --\n",
       "│    └─MaxPool2d: 2-9                    [128, 1000, 1]            --\n",
       "├─Sequential: 1-2                        [1, 8007]                 --\n",
       "│    └─ConvTranspose2d: 2-10             [64, 2001, 1]             24,640\n",
       "│    └─Tanh: 2-11                        [64, 2001, 1]             --\n",
       "│    └─ConvTranspose2d: 2-12             [32, 4003, 1]             6,176\n",
       "│    └─Tanh: 2-13                        [32, 4003, 1]             --\n",
       "│    └─ConvTranspose2d: 2-14             [1, 8007, 1]              97\n",
       "│    └─Tanh: 2-15                        [1, 8007, 1]              --\n",
       "│    └─Flatten: 2-16                     [1, 8007]                 --\n",
       "==========================================================================================\n",
       "Total params: 61,953\n",
       "Trainable params: 61,953\n",
       "Non-trainable params: 0\n",
       "Total mult-adds (M): 5.34\n",
       "==========================================================================================\n",
       "Input size (MB): 0.03\n",
       "Forward/backward pass size (MB): 8.26\n",
       "Params size (MB): 0.25\n",
       "Estimated Total Size (MB): 8.54\n",
       "=========================================================================================="
      ]
     },
     "execution_count": 2,
     "metadata": {},
     "output_type": "execute_result"
    }
   ],
   "source": [
    "\n",
    "model = CAE()\n",
    "torchinfo.summary(model, input_size=(1, 8000, 1)) #channel, rows,cols"
   ]
  }
 ],
 "metadata": {
  "kernelspec": {
   "display_name": "base",
   "language": "python",
   "name": "python3"
  },
  "language_info": {
   "codemirror_mode": {
    "name": "ipython",
    "version": 3
   },
   "file_extension": ".py",
   "mimetype": "text/x-python",
   "name": "python",
   "nbconvert_exporter": "python",
   "pygments_lexer": "ipython3",
   "version": "3.9.12"
  },
  "orig_nbformat": 4,
  "vscode": {
   "interpreter": {
    "hash": "820d507683270d6b65f843676203e5ed0fadcdee93b1b6d49e394f227c8eaef4"
   }
  }
 },
 "nbformat": 4,
 "nbformat_minor": 2
}
