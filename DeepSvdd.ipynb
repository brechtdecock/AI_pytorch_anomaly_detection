{
 "cells": [
  {
   "cell_type": "code",
   "execution_count": 6,
   "metadata": {},
   "outputs": [
    {
     "name": "stdout",
     "output_type": "stream",
     "text": [
      "Using device: cuda\n"
     ]
    }
   ],
   "source": [
    "import pandas as pd\n",
    "import numpy as np\n",
    "import csv\n",
    "from DeepSvDDClass import *\n",
    "import torch\n",
    "\n",
    "from sklearn.utils import shuffle\n",
    "from sklearn.model_selection import train_test_split\n",
    "\n",
    "device = torch.device('cuda' if torch.cuda.is_available() else 'cpu')\n",
    "print('Using device:', device)"
   ]
  },
  {
   "cell_type": "code",
   "execution_count": 15,
   "metadata": {},
   "outputs": [],
   "source": [
    "#don't use validation dataset since there is no overfitting in svdd?\n",
    "def train_test(deepsvdd_datapath = None, split_ratio:float = 0.2):\n",
    "    deepsvdd_data_csv = pd.read_csv(deepsvdd_datapath)\n",
    "    \n",
    "    #train data only needs normal data, test data need normal and abnormal data\n",
    "    data_normal = deepsvdd_data_csv[(deepsvdd_data_csv[\"normal/abnormal\"] == \"normal\" )]\n",
    "    data_abnormal = deepsvdd_data_csv[(deepsvdd_data_csv[\"normal/abnormal\"] == \"abnormal\" )]\n",
    "\n",
    "    train_dataset_normal, test_dataset_normal  = train_test_split(data_normal, test_size=split_ratio, shuffle = False)\n",
    "    \n",
    "    train_dataset = train_dataset_normal\n",
    "    test_dataset = pd.concat([test_dataset_normal, data_abnormal])\n",
    "    \n",
    "    return shuffle(train_dataset), shuffle(test_dataset)\n",
    "\n",
    "\n",
    "datapath = r'C:\\Users\\brech\\THESIS_local\\ToyADMOS\\DeepSVDD_case1_ch1.csv'\n",
    "train_dataset, test_dataset = train_test(deepsvdd_datapath = datapath, split_ratio=0.2)"
   ]
  }
 ],
 "metadata": {
  "kernelspec": {
   "display_name": "base",
   "language": "python",
   "name": "python3"
  },
  "language_info": {
   "codemirror_mode": {
    "name": "ipython",
    "version": 3
   },
   "file_extension": ".py",
   "mimetype": "text/x-python",
   "name": "python",
   "nbconvert_exporter": "python",
   "pygments_lexer": "ipython3",
   "version": "3.9.12"
  },
  "orig_nbformat": 4,
  "vscode": {
   "interpreter": {
    "hash": "820d507683270d6b65f843676203e5ed0fadcdee93b1b6d49e394f227c8eaef4"
   }
  }
 },
 "nbformat": 4,
 "nbformat_minor": 2
}
