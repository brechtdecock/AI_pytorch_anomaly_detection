{
 "cells": [
  {
   "cell_type": "markdown",
   "metadata": {},
   "source": [
    "Import all necessary packages, check cuda"
   ]
  },
  {
   "cell_type": "code",
   "execution_count": 8,
   "metadata": {},
   "outputs": [
    {
     "name": "stdout",
     "output_type": "stream",
     "text": [
      "Using device: cuda\n"
     ]
    }
   ],
   "source": [
    "import torch\n",
    "from torch.utils.data import DataLoader\n",
    "\n",
    "from GPUtil import showUtilization as gpu_usage\n",
    "from numba import cuda\n",
    "\n",
    "import os\n",
    "import tqdm\n",
    "import pandas as pd\n",
    "import numpy as np  \n",
    "import matplotlib.pyplot as plt\n",
    "import librosa\n",
    "import librosa.display\n",
    "from AutoEncoderClass import *\n",
    "\n",
    "from sklearn.utils import shuffle\n",
    "from sklearn.model_selection import train_test_split\n",
    "\n",
    "\n",
    "device = torch.device('cuda' if torch.cuda.is_available() else 'cpu')\n",
    "print('Using device:', device)"
   ]
  },
  {
   "cell_type": "markdown",
   "metadata": {},
   "source": [
    "Get user path to data, create train, validation and test datasets"
   ]
  },
  {
   "cell_type": "code",
   "execution_count": 9,
   "metadata": {},
   "outputs": [],
   "source": [
    "def train_val_test(dataset_path = None, cases = []):\n",
    "    data_csv = pd.read_csv(dataset_path)\n",
    "    \n",
    "    data_pd = pd.DataFrame()\n",
    "    for case_number in cases: \n",
    "        data_pd = pd.concat([data_pd, data_csv[(data_csv[\"Case\"] == \"case\"+str(case_number))] ])\n",
    "    \n",
    "    #train data only needs normal data, validation and test data need normal and abnormal data\n",
    "    data_normal = data_pd[(data_pd[\"norm/ab\"] == \"normal\")]\n",
    "    data_abnormal = data_pd[(data_pd[\"norm/ab\"] == \"abnormal\")]\n",
    "        \n",
    "    train_dataset, interm_dataset  = train_test_split(data_normal, test_size=0.2, shuffle = True)\n",
    "    data_abnormal = pd.concat([data_abnormal, interm_dataset])\n",
    "    validation_dataset, test_dataset= train_test_split(data_abnormal, test_size=0.8, shuffle= True) #only small validation\n",
    "\n",
    "    return shuffle(train_dataset), shuffle(validation_dataset), shuffle(test_dataset)\n",
    "\n",
    "    \n",
    "datapath = r'C:\\Users\\brech\\THESIS_local\\ToyADMOS\\ToycarCSV.csv'\n",
    "train_dataset, validation_dataset, test_dataset = train_val_test(dataset_path = datapath, cases=[1])"
   ]
  },
  {
   "cell_type": "markdown",
   "metadata": {},
   "source": [
    "datasets are of the form: Full Sample Name, Toytype,  Case,\tnorm/ab, IND/CNT, Channel, sample_ID"
   ]
  },
  {
   "cell_type": "code",
   "execution_count": 3,
   "metadata": {},
   "outputs": [],
   "source": [
    "#helper functions \n",
    "def find_path_to_wav(full_sample_name):\n",
    "    for root, dirs, files in os.walk(os.path.dirname(datapath)):\n",
    "        for name in files:\n",
    "            if name == full_sample_name:\n",
    "                path_to_wavFile = os.path.abspath(os.path.join(root, name))\n",
    "                return path_to_wavFile\n",
    "\n",
    "\n",
    "def get_sample_waveform_normalised(full_sample_name, start = 0, stop = 11):\n",
    "    #returns waveform values, cut to seconds going from start to stop\n",
    "    sample_path = find_path_to_wav(full_sample_name)\n",
    "    waveform, sample_rate = librosa.load(sample_path, sr= None)\n",
    "    waveform = waveform[start*sample_rate : stop*sample_rate]\n",
    "        \n",
    "    return librosa.util.normalize(waveform)"
   ]
  },
  {
   "cell_type": "code",
   "execution_count": 4,
   "metadata": {},
   "outputs": [],
   "source": [
    "X_train_wav = train_dataset[\"Full Sample Name\"].values\n",
    "X_test_wav = test_dataset[\"Full Sample Name\"].values\n",
    "X_valid_wav = validation_dataset[\"Full Sample Name\"].values\n",
    "\n",
    "batch_train = np.array([get_sample_waveform_normalised(elem,4,5) for elem in X_train_wav])\n",
    "batch_test = np.array([get_sample_waveform_normalised(elem,4,5) for elem in X_test_wav])\n",
    "batch_val = np.array([get_sample_waveform_normalised(elem,4,5) for elem in X_valid_wav])\n",
    "\n",
    "X_train = DataLoader(batch_train, batch_size = 64, shuffle = False)\n",
    "X_test = DataLoader(batch_test, batch_size = 64, shuffle = False)\n",
    "X_val = DataLoader(batch_val, batch_size = 64, shuffle = False)\n",
    "\n",
    "\n",
    "Y_train = train_dataset[\"norm/ab\"]\n",
    "Y_test = test_dataset[\"norm/ab\"]\n",
    "Y_val = validation_dataset[\"norm/ab\"]\n",
    "\n",
    "#AFTER THIS POINT NO SHUFFLING IS DONE, SO DATA FROM XTRAIN LINES UP YTRAIN, etc..."
   ]
  },
  {
   "cell_type": "markdown",
   "metadata": {},
   "source": [
    "for example, batch_test is (1709,16000)\n",
    "with batch size of 32, this gives 53.4 (so 54) arrays, each with 32 samples \n",
    "\n",
    "so 1 batch: 32 samples, size (32, 16000)\n",
    "==> 54 batches\n",
    "\n",
    "idea is to feed batch per batch to the neural net\n",
    "\n",
    "\n",
    "for batch_train (4320,16000) this would give 135 batches (each with 32 samples)"
   ]
  },
  {
   "cell_type": "markdown",
   "metadata": {},
   "source": [
    "Set autoencoder parameters"
   ]
  },
  {
   "cell_type": "code",
   "execution_count": 5,
   "metadata": {},
   "outputs": [],
   "source": [
    "model = AutoEncoder(16000).to(device=device) #assume 1 sec of waveform\n",
    "model_loss = nn.MSELoss()    #?nn.L1Loss() best type of loss for sound?, MSE loss seems to result in lower loss\n",
    "learning_rate = 0.0001\n",
    "optimizer=torch.optim.Adam(model.parameters(), lr=learning_rate)\n"
   ]
  },
  {
   "cell_type": "code",
   "execution_count": 6,
   "metadata": {},
   "outputs": [
    {
     "name": "stderr",
     "output_type": "stream",
     "text": [
      "100%|██████████| 50/50 [01:56<00:00,  2.33s/it]\n"
     ]
    }
   ],
   "source": [
    "epochs = 50\n",
    "losses = []\n",
    "avg_val_losses = []\n",
    "    \n",
    "def train(epochs, model, model_loss):\n",
    "    for epoch in tqdm.tqdm(range(epochs)):\n",
    "        \n",
    "        for batch_idx, data in enumerate(X_train):\n",
    "            #print(len(data), data)\n",
    "            \n",
    "            model.train(True)\n",
    "            # Zero your gradients for every batch!\n",
    "            model.zero_grad()\n",
    "            #for param in model.parameters(): #instaed of model.zero_grad: https://pytorch.org/tutorials/recipes/recipes/tuning_guide.html#:~:text=implement%20this%20optimization.-,Use%20parameter.grad,-%3D%20None%20instead%20of\n",
    "            #    param.grad = None\n",
    "\n",
    "            # Make predictions for this batch\n",
    "            data_gpu = data.to(device= device)\n",
    "            outputs = model(data_gpu)\n",
    "    \n",
    "            # Compute the loss and its gradients\n",
    "            loss = model_loss(outputs, data_gpu)\n",
    "            loss.backward()\n",
    "            optimizer.step()\n",
    "           \n",
    "            losses.append(loss.item())\n",
    "            #del loss \n",
    "            #del data #free memory\n",
    "            #del outputs\n",
    "            \n",
    "            model.train(False)\n",
    "\n",
    "        \n",
    "        #hier validation data gebruiken, gets run once per epoch\n",
    "        #get average loss value of the validation data\n",
    "        running_val_loss = []\n",
    "        for val_data in X_val:\n",
    "            val_data_gpu = val_data.to(device=device)\n",
    "            val_outputs = model(val_data_gpu)\n",
    "            val_loss = model_loss(val_outputs, val_data_gpu)\n",
    "            \n",
    "            running_val_loss.append(val_loss.item())\n",
    "\n",
    "        avg_val_losses.append(np.average(running_val_loss))\n",
    "\n",
    "train(model=model, epochs=epochs, model_loss=model_loss)\n"
   ]
  },
  {
   "cell_type": "markdown",
   "metadata": {},
   "source": [
    "Plot the losses "
   ]
  },
  {
   "cell_type": "code",
   "execution_count": 7,
   "metadata": {},
   "outputs": [
    {
     "data": {
      "image/png": "[encoded data removed]",
      "text/plain": [
       "<Figure size 432x288 with 1 Axes>"
      ]
     },
     "metadata": {
      "needs_background": "light"
     },
     "output_type": "display_data"
    },
    {
     "name": "stdout",
     "output_type": "stream",
     "text": [
      "[0.05322408117353916, 0.05166581645607948, 0.05085971113294363, 0.05032300762832165, 0.050006396137177944, 0.04968135245144367, 0.049433243460953236, 0.049199423752725124, 0.049016572535037994, 0.04887363500893116, 0.048749279230833054, 0.04861627798527479, 0.04853521753102541, 0.04839871916919947, 0.048292817547917366, 0.04818574991077185, 0.04807171691209078, 0.04798813723027706, 0.04789734445512295, 0.04781479947268963, 0.047750500962138176, 0.04768136888742447, 0.04763493034988642, 0.04756572749465704, 0.04750829841941595, 0.04745572805404663, 0.047409831546247005, 0.04740064591169357, 0.047395145520567894, 0.04733130056411028, 0.04728612396866083, 0.04723535943776369, 0.04717875178903341, 0.047112248837947845, 0.04706237278878689, 0.04701658245176077, 0.04699122626334429, 0.04694850742816925, 0.04688083101063967, 0.046846043318510056, 0.046826739795506, 0.046826706267893314, 0.04681593831628561, 0.04680192843079567, 0.04680588096380234, 0.04681299813091755, 0.04678912088274956, 0.046747488901019096, 0.046729701571166515, 0.046702529303729534]\n"
     ]
    },
    {
     "data": {
      "image/png": "[encoded data removed]",
      "text/plain": [
       "<Figure size 432x288 with 1 Axes>"
      ]
     },
     "metadata": {
      "needs_background": "light"
     },
     "output_type": "display_data"
    }
   ],
   "source": [
    "plt.plot(losses)\n",
    "plt.show()\n",
    "\n",
    "print(avg_val_losses)\n",
    "plt.plot(avg_val_losses)\n",
    "plt.show()"
   ]
  },
  {
   "cell_type": "markdown",
   "metadata": {},
   "source": [
    "Keep track of how good the model did, compare file"
   ]
  },
  {
   "cell_type": "code",
   "execution_count": 8,
   "metadata": {},
   "outputs": [],
   "source": [
    "from datetime import datetime\n",
    "now = datetime.now()\n",
    "lines = [now, model, model_loss,learning_rate,epochs,optimizer,losses[-100:], avg_val_losses ]\n",
    "with open('All results.txt', 'a') as f:\n",
    "    for line in lines:\n",
    "        f.write(str(line))\n",
    "        f.write('\\n')\n",
    "    f.write('\\n')"
   ]
  },
  {
   "cell_type": "markdown",
   "metadata": {},
   "source": [
    "iets van ROC curve of andere general methode om het model te testen"
   ]
  },
  {
   "cell_type": "markdown",
   "metadata": {},
   "source": [
    "Use the model on the test data and get a score(normal_score/anomaly_score) to hopefully see a difference"
   ]
  },
  {
   "cell_type": "code",
   "execution_count": 11,
   "metadata": {},
   "outputs": [],
   "source": [
    "def score(dataset, scoring_function):\n",
    "    scores_normal = [] #scores of each waveform in the test dataset\n",
    "    scores_abnormal = []\n",
    "    \n",
    "    \n",
    "    for line_of_data in dataset.iloc():\n",
    "        waveform = get_sample_waveform_normalised(line_of_data[\"Full Sample Name\"], 4, 5)\n",
    "        waveform_gpu = torch.FloatTensor(waveform).to(device=device)\n",
    "\n",
    "        predicted_waveform = model(waveform_gpu)\n",
    "        error = scoring_function(predicted_waveform,waveform_gpu)\n",
    "        \n",
    "        if line_of_data[\"norm/ab\"] == \"normal\":\n",
    "            scores_normal.append(error.detach().cpu().numpy().item()) \n",
    "        \n",
    "        if line_of_data[\"norm/ab\"] == \"abnormal\":\n",
    "            scores_abnormal.append(error.detach().cpu().numpy().item()) \n",
    "   \n",
    "    return scores_normal, scores_abnormal\n",
    "\n",
    "scores_normal, scores_abnormal = score(test_dataset, scoring_function = nn.L1Loss())\n"
   ]
  },
  {
   "cell_type": "code",
   "execution_count": 10,
   "metadata": {},
   "outputs": [
    {
     "data": {
      "text/plain": [
       "<function matplotlib.pyplot.show(close=None, block=None)>"
      ]
     },
     "execution_count": 10,
     "metadata": {},
     "output_type": "execute_result"
    },
    {
     "data": {
      "image/png": "[encoded data removed]",
      "text/plain": [
       "<Figure size 432x288 with 1 Axes>"
      ]
     },
     "metadata": {
      "needs_background": "light"
     },
     "output_type": "display_data"
    }
   ],
   "source": [
    "plt.plot(range(len(scores_normal)), scores_normal, 'bx',linewidth=1, markersize=2) \n",
    "plt.plot(range(len(scores_abnormal)), scores_abnormal, 'rx', linewidth=1, markersize=2 ) \n",
    "plt.show"
   ]
  }
 ],
 "metadata": {
  "kernelspec": {
   "display_name": "Python 3.9.12 ('base')",
   "language": "python",
   "name": "python3"
  },
  "language_info": {
   "codemirror_mode": {
    "name": "ipython",
    "version": 3
   },
   "file_extension": ".py",
   "mimetype": "text/x-python",
   "name": "python",
   "nbconvert_exporter": "python",
   "pygments_lexer": "ipython3",
   "version": "3.9.12"
  },
  "orig_nbformat": 4,
  "vscode": {
   "interpreter": {
    "hash": "820d507683270d6b65f843676203e5ed0fadcdee93b1b6d49e394f227c8eaef4"
   }
  }
 },
 "nbformat": 4,
 "nbformat_minor": 2
}
