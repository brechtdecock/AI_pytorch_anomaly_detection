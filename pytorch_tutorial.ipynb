{
 "cells": [
  {
   "cell_type": "code",
   "execution_count": 2,
   "metadata": {},
   "outputs": [],
   "source": [
    "import torch\n",
    "import numpy as np\n",
    "import matplotlib"
   ]
  },
  {
   "cell_type": "code",
   "execution_count": 3,
   "metadata": {},
   "outputs": [
    {
     "name": "stdout",
     "output_type": "stream",
     "text": [
      "tensor([[0.7435, 0.0333, 0.3102],\n",
      "        [0.2517, 0.9279, 0.1265],\n",
      "        [0.0305, 0.7079, 0.2743],\n",
      "        [0.9130, 0.1177, 0.1049],\n",
      "        [0.6337, 0.5597, 0.4999]])\n",
      "True\n",
      "True\n",
      "tensor([1., 1., 1., 1., 1.], device='cuda:0') tensor([1., 1., 1., 1., 1.], device='cuda:0') [2. 2. 2. 2. 2.]\n"
     ]
    }
   ],
   "source": [
    "x = torch.rand(5, 3)\n",
    "print(x)\n",
    "print(torch.cuda.is_available())\n",
    "print(torch.has_cuda)\n",
    "\n",
    "device = torch.device(\"cuda\")\n",
    "x = torch.ones(5,device = device)\n",
    "y = torch.ones(5)\n",
    "y = y.to(device)\n",
    "z = x+y\n",
    "z = z.to(\"cpu\")\n",
    "z = z.numpy()\n",
    "print(x,y,z)\n"
   ]
  },
  {
   "cell_type": "code",
   "execution_count": 8,
   "metadata": {},
   "outputs": [
    {
     "name": "stdout",
     "output_type": "stream",
     "text": [
      "tensor([ 0.3724,  0.2993, -0.1509], requires_grad=True)\n",
      "tensor([2.3724, 2.2993, 1.8491], grad_fn=<AddBackward0>)\n"
     ]
    }
   ],
   "source": [
    "x = torch.randn(3, requires_grad=True)\n",
    "print(x)\n",
    "y= x+2\n",
    "print(y)\n",
    "y.backward() #dy/dx"
   ]
  }
 ],
 "metadata": {
  "kernelspec": {
   "display_name": "Python 3.9.12 ('base')",
   "language": "python",
   "name": "python3"
  },
  "language_info": {
   "codemirror_mode": {
    "name": "ipython",
    "version": 3
   },
   "file_extension": ".py",
   "mimetype": "text/x-python",
   "name": "python",
   "nbconvert_exporter": "python",
   "pygments_lexer": "ipython3",
   "version": "3.9.12"
  },
  "orig_nbformat": 4,
  "vscode": {
   "interpreter": {
    "hash": "820d507683270d6b65f843676203e5ed0fadcdee93b1b6d49e394f227c8eaef4"
   }
  }
 },
 "nbformat": 4,
 "nbformat_minor": 2
}
