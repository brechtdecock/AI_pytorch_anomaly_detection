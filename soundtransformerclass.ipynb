{
 "cells": [
  {
   "cell_type": "code",
   "execution_count": 3,
   "metadata": {},
   "outputs": [
    {
     "name": "stdout",
     "output_type": "stream",
     "text": [
      "Using device: cuda\n",
      "torch.Size([250, 512])\n"
     ]
    },
    {
     "data": {
      "text/plain": [
       "==========================================================================================\n",
       "Layer (type:depth-idx)                   Output Shape              Param #\n",
       "==========================================================================================\n",
       "AudioEmbedding                           [250, 512]                --\n",
       "├─Sequential: 1-1                        [1, 32, 4000, 1]          --\n",
       "│    └─Conv2d: 2-1                       [1, 32, 8000, 1]          128\n",
       "│    └─Tanh: 2-2                         [1, 32, 8000, 1]          --\n",
       "│    └─MaxPool2d: 2-3                    [1, 32, 4000, 1]          --\n",
       "├─Sequential: 1-2                        [1, 64, 2000, 1]          --\n",
       "│    └─Conv2d: 2-4                       [1, 64, 4000, 1]          6,208\n",
       "│    └─Tanh: 2-5                         [1, 64, 4000, 1]          --\n",
       "│    └─MaxPool2d: 2-6                    [1, 64, 2000, 1]          --\n",
       "├─Sequential: 1-3                        [1, 128, 1000, 1]         --\n",
       "│    └─Conv2d: 2-7                       [1, 128, 2000, 1]         24,704\n",
       "│    └─Tanh: 2-8                         [1, 128, 2000, 1]         --\n",
       "│    └─MaxPool2d: 2-9                    [1, 128, 1000, 1]         --\n",
       "├─Sequential: 1-4                        [1, 256, 500, 1]          --\n",
       "│    └─Conv2d: 2-10                      [1, 256, 1000, 1]         98,560\n",
       "│    └─Tanh: 2-11                        [1, 256, 1000, 1]         --\n",
       "│    └─MaxPool2d: 2-12                   [1, 256, 500, 1]          --\n",
       "├─Sequential: 1-5                        [1, 512, 250, 1]          --\n",
       "│    └─Conv2d: 2-13                      [1, 512, 500, 1]          393,728\n",
       "│    └─Tanh: 2-14                        [1, 512, 500, 1]          --\n",
       "│    └─MaxPool2d: 2-15                   [1, 512, 250, 1]          --\n",
       "├─Dropout: 1-6                           [1, 512, 250, 1]          --\n",
       "==========================================================================================\n",
       "Total params: 523,328\n",
       "Trainable params: 523,328\n",
       "Non-trainable params: 0\n",
       "Total mult-adds (M): 370.69\n",
       "==========================================================================================\n",
       "Input size (MB): 0.03\n",
       "Forward/backward pass size (MB): 10.24\n",
       "Params size (MB): 2.09\n",
       "Estimated Total Size (MB): 12.37\n",
       "=========================================================================================="
      ]
     },
     "execution_count": 3,
     "metadata": {},
     "output_type": "execute_result"
    }
   ],
   "source": [
    "import torch\n",
    "from torch import Tensor\n",
    "import torch.nn as nn\n",
    "from torch.autograd import Variable\n",
    "import torch.nn.functional as f\n",
    "import numpy as np\n",
    "import torchinfo\n",
    "import math\n",
    "\n",
    "device = torch.device('cuda' if torch.cuda.is_available() else 'cpu')\n",
    "print('Using device:', device)\n",
    "\n",
    "class AudioEmbedding(nn.Module):\n",
    "    def __init__(self):\n",
    "        super().__init__()\n",
    "        self.conv1 = nn.Sequential(nn.Conv2d(in_channels = 1, out_channels = 32, kernel_size=(3,1), stride=1, padding=\"same\"),\n",
    "                                    nn.Tanh(), #default neg slope of 0.01\n",
    "                                    nn.MaxPool2d(kernel_size=(2,1), stride=2))\n",
    "        self.conv2 = nn.Sequential(nn.Conv2d(in_channels = 32,out_channels = 64, kernel_size=(3,1), stride=1, padding=\"same\"),\n",
    "                                   nn.Tanh(),\n",
    "                                   nn.MaxPool2d(kernel_size=(2,1), stride=2))\n",
    "        self.conv3 = nn.Sequential(nn.Conv2d(in_channels = 64,out_channels = 128, kernel_size=(3,1), stride=1, padding=\"same\"),\n",
    "                                   nn.Tanh(),\n",
    "                                   nn.MaxPool2d(kernel_size=(2,1), stride=2))\n",
    "        self.conv4 = nn.Sequential(nn.Conv2d(in_channels = 128,out_channels = 256, kernel_size=(3,1), stride=1, padding=\"same\"),\n",
    "                                   nn.Tanh(),\n",
    "                                   nn.MaxPool2d(kernel_size=(2,1), stride=2))\n",
    "        self.conv5 = nn.Sequential(nn.Conv2d(in_channels = 256,out_channels = 512, kernel_size=(3,1), stride=1, padding=\"same\"),\n",
    "                                   nn.Tanh(),\n",
    "                                   nn.MaxPool2d(kernel_size=(2,1), stride=2))\n",
    "        \n",
    "        self.drop  = nn.Dropout(0.1)\n",
    "          \n",
    "    def getPositionEncoding(self,rows, cols,n=10000):\n",
    "        P = torch.zeros((rows, cols))\n",
    "        for k in range(rows):\n",
    "            for i in torch.arange(int(cols/2)):\n",
    "                denominator = torch.pow(n, 2*i/cols)\n",
    "                P[k, 2*i] = torch.sin(k/denominator)\n",
    "                P[k, 2*i+1] = torch.cos(k/denominator)\n",
    "        return P\n",
    "    \n",
    "    \n",
    "        \n",
    "    def forward(self, data):\n",
    "       \n",
    "        out_32_enc = self.conv1(data)\n",
    "        out_64_enc = self.conv2(out_32_enc)\n",
    "        out_128_enc = self.conv3(out_64_enc)\n",
    "        out_256_enc = self.conv4(out_128_enc)\n",
    "        out_512_enc = self.conv5(out_256_enc)\n",
    "      \n",
    "        out_drop = self.drop(out_512_enc)\n",
    "        conv_feature_embedding = torch.transpose(torch.squeeze(out_drop),0,1) #matrix of 250 by 512 (so 512 feature vectors each 250 long)\n",
    "        \n",
    "        \n",
    "        position_embedding = self.getPositionEncoding(250,512).to(device=conv_feature_embedding.device)\n",
    "        print(torch.add(conv_feature_embedding,position_embedding).shape )\n",
    "        return torch.add(conv_feature_embedding,position_embedding) "
   ]
  }
 ],
 "metadata": {
  "kernelspec": {
   "display_name": "base",
   "language": "python",
   "name": "python3"
  },
  "language_info": {
   "codemirror_mode": {
    "name": "ipython",
    "version": 3
   },
   "file_extension": ".py",
   "mimetype": "text/x-python",
   "name": "python",
   "nbconvert_exporter": "python",
   "pygments_lexer": "ipython3",
   "version": "3.9.12"
  },
  "orig_nbformat": 4
 },
 "nbformat": 4,
 "nbformat_minor": 2
}
